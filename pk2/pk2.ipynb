{
 "cells": [
  {
   "cell_type": "code",
   "execution_count": 1,
   "id": "6d576f06",
   "metadata": {},
   "outputs": [],
   "source": [
    "import os\n",
    "import gzip\n",
    "import shutil\n",
    "\n",
    "import numpy as np\n",
    "import pandas as pd\n",
    "from sklearn.feature_extraction.text import CountVectorizer, TfidfVectorizer\n",
    "from sklearn.model_selection import train_test_split\n",
    "from sklearn.metrics import classification_report\n",
    "from sklearn.neighbors import KNeighborsClassifier\n",
    "from sklearn.naive_bayes import ComplementNB\n",
    "\n",
    "import warnings\n",
    "warnings.filterwarnings('ignore')"
   ]
  },
  {
   "cell_type": "code",
   "execution_count": 11,
   "id": "2511aa40",
   "metadata": {},
   "outputs": [
    {
     "data": {
      "text/html": [
       "<div>\n",
       "<style scoped>\n",
       "    .dataframe tbody tr th:only-of-type {\n",
       "        vertical-align: middle;\n",
       "    }\n",
       "\n",
       "    .dataframe tbody tr th {\n",
       "        vertical-align: top;\n",
       "    }\n",
       "\n",
       "    .dataframe thead th {\n",
       "        text-align: right;\n",
       "    }\n",
       "</style>\n",
       "<table border=\"1\" class=\"dataframe\">\n",
       "  <thead>\n",
       "    <tr style=\"text-align: right;\">\n",
       "      <th></th>\n",
       "      <th>Category</th>\n",
       "      <th>Message</th>\n",
       "    </tr>\n",
       "  </thead>\n",
       "  <tbody>\n",
       "    <tr>\n",
       "      <th>0</th>\n",
       "      <td>ham</td>\n",
       "      <td>Go until jurong point, crazy.. Available only ...</td>\n",
       "    </tr>\n",
       "    <tr>\n",
       "      <th>1</th>\n",
       "      <td>ham</td>\n",
       "      <td>Ok lar... Joking wif u oni...</td>\n",
       "    </tr>\n",
       "    <tr>\n",
       "      <th>2</th>\n",
       "      <td>spam</td>\n",
       "      <td>Free entry in 2 a wkly comp to win FA Cup fina...</td>\n",
       "    </tr>\n",
       "    <tr>\n",
       "      <th>3</th>\n",
       "      <td>ham</td>\n",
       "      <td>U dun say so early hor... U c already then say...</td>\n",
       "    </tr>\n",
       "    <tr>\n",
       "      <th>4</th>\n",
       "      <td>ham</td>\n",
       "      <td>Nah I don't think he goes to usf, he lives aro...</td>\n",
       "    </tr>\n",
       "  </tbody>\n",
       "</table>\n",
       "</div>"
      ],
      "text/plain": [
       "  Category                                            Message\n",
       "0      ham  Go until jurong point, crazy.. Available only ...\n",
       "1      ham                      Ok lar... Joking wif u oni...\n",
       "2     spam  Free entry in 2 a wkly comp to win FA Cup fina...\n",
       "3      ham  U dun say so early hor... U c already then say...\n",
       "4      ham  Nah I don't think he goes to usf, he lives aro..."
      ]
     },
     "execution_count": 11,
     "metadata": {},
     "output_type": "execute_result"
    }
   ],
   "source": [
    "df = pd.read_csv(r'C:\\Users\\zhouhang\\Desktop\\SPAM text message 20170820 - Data.csv')\n",
    "df.head()"
   ]
  },
  {
   "cell_type": "code",
   "execution_count": 12,
   "id": "9194b622",
   "metadata": {},
   "outputs": [
    {
     "data": {
      "text/plain": [
       "<5572x8709 sparse matrix of type '<class 'numpy.float64'>'\n",
       "\twith 74098 stored elements in Compressed Sparse Row format>"
      ]
     },
     "execution_count": 12,
     "metadata": {},
     "output_type": "execute_result"
    }
   ],
   "source": [
    "tfidfv = TfidfVectorizer()\n",
    "tfidf_ngram_features = tfidfv.fit_transform(df['Message'])\n",
    "tfidf_ngram_features"
   ]
  },
  {
   "cell_type": "code",
   "execution_count": 13,
   "id": "e59236fd",
   "metadata": {},
   "outputs": [
    {
     "data": {
      "text/plain": [
       "<5572x8709 sparse matrix of type '<class 'numpy.int64'>'\n",
       "\twith 74098 stored elements in Compressed Sparse Row format>"
      ]
     },
     "execution_count": 13,
     "metadata": {},
     "output_type": "execute_result"
    }
   ],
   "source": [
    "countvec = CountVectorizer()\n",
    "countvec_ngram_features = countvec.fit_transform(df['Message'])\n",
    "countvec_ngram_features"
   ]
  },
  {
   "cell_type": "markdown",
   "id": "177a474d",
   "metadata": {},
   "source": [
    "KNeighboursClassifier"
   ]
  },
  {
   "cell_type": "code",
   "execution_count": 14,
   "id": "fcc0e74e",
   "metadata": {},
   "outputs": [
    {
     "name": "stdout",
     "output_type": "stream",
     "text": [
      "              precision    recall  f1-score   support\n",
      "\n",
      "         ham     0.8940    1.0000    0.9440      1442\n",
      "        spam     1.0000    0.2565    0.4083       230\n",
      "\n",
      "    accuracy                         0.8977      1672\n",
      "   macro avg     0.9470    0.6283    0.6762      1672\n",
      "weighted avg     0.9086    0.8977    0.8703      1672\n",
      "\n"
     ]
    }
   ],
   "source": [
    "# TFIDF + KNC\n",
    "X_train, X_test, y_train, y_test = train_test_split(tfidf_ngram_features, df['Category'], test_size=0.3, random_state=1)\n",
    "model = KNeighborsClassifier()\n",
    "model.fit(X_train, y_train)\n",
    "y_pred = model.predict(X_test)\n",
    "print(classification_report(y_test, y_pred, digits=4, target_names=list(map(str, list(y_test.unique())))))"
   ]
  },
  {
   "cell_type": "code",
   "execution_count": 15,
   "id": "ee064c66",
   "metadata": {},
   "outputs": [
    {
     "name": "stdout",
     "output_type": "stream",
     "text": [
      "              precision    recall  f1-score   support\n",
      "\n",
      "         ham     0.9029    1.0000    0.9490      1442\n",
      "        spam     1.0000    0.3261    0.4918       230\n",
      "\n",
      "    accuracy                         0.9073      1672\n",
      "   macro avg     0.9515    0.6630    0.7204      1672\n",
      "weighted avg     0.9163    0.9073    0.8861      1672\n",
      "\n"
     ]
    }
   ],
   "source": [
    "# CountVec + KNC\n",
    "X_train, X_test, y_train, y_test = train_test_split(countvec_ngram_features, df['Category'], \n",
    "                                                    test_size=0.3, random_state=1)\n",
    "model = KNeighborsClassifier()\n",
    "model.fit(X_train, y_train)\n",
    "y_pred = model.predict(X_test)\n",
    "print(classification_report(y_test, y_pred, digits=4, target_names=list(map(str, list(y_test.unique())))))"
   ]
  },
  {
   "cell_type": "markdown",
   "id": "66a04980",
   "metadata": {},
   "source": [
    "Complement Naive Bayes"
   ]
  },
  {
   "cell_type": "code",
   "execution_count": 16,
   "id": "8d54c767",
   "metadata": {},
   "outputs": [
    {
     "name": "stdout",
     "output_type": "stream",
     "text": [
      "              precision    recall  f1-score   support\n",
      "\n",
      "         ham     0.9874    0.9771    0.9822      1442\n",
      "        spam     0.8653    0.9217    0.8926       230\n",
      "\n",
      "    accuracy                         0.9695      1672\n",
      "   macro avg     0.9263    0.9494    0.9374      1672\n",
      "weighted avg     0.9706    0.9695    0.9699      1672\n",
      "\n"
     ]
    }
   ],
   "source": [
    "# TFIDF + CNB\n",
    "X_train, X_test, y_train, y_test = train_test_split(tfidf_ngram_features, df['Category'], test_size=0.3, random_state=1)\n",
    "model = ComplementNB()\n",
    "model.fit(X_train, y_train)\n",
    "y_pred = model.predict(X_test)\n",
    "print(classification_report(y_test, y_pred, digits=4, target_names=list(map(str, list(y_test.unique())))))"
   ]
  },
  {
   "cell_type": "code",
   "execution_count": 17,
   "id": "412fe974",
   "metadata": {},
   "outputs": [
    {
     "name": "stdout",
     "output_type": "stream",
     "text": [
      "              precision    recall  f1-score   support\n",
      "\n",
      "         ham     0.9929    0.9716    0.9821      1442\n",
      "        spam     0.8429    0.9565    0.8961       230\n",
      "\n",
      "    accuracy                         0.9695      1672\n",
      "   macro avg     0.9179    0.9640    0.9391      1672\n",
      "weighted avg     0.9723    0.9695    0.9703      1672\n",
      "\n"
     ]
    }
   ],
   "source": [
    "# CountVec + CNB\n",
    "X_train, X_test, y_train, y_test = train_test_split(countvec_ngram_features, df['Category'], \n",
    "                                                    test_size=0.3, random_state=1)\n",
    "model = ComplementNB()\n",
    "model.fit(X_train, y_train)\n",
    "y_pred = model.predict(X_test)\n",
    "print(classification_report(y_test, y_pred, digits=4, target_names=list(map(str, list(y_test.unique())))))"
   ]
  }
 ],
 "metadata": {
  "kernelspec": {
   "display_name": "Python 3 (ipykernel)",
   "language": "python",
   "name": "python3"
  },
  "language_info": {
   "codemirror_mode": {
    "name": "ipython",
    "version": 3
   },
   "file_extension": ".py",
   "mimetype": "text/x-python",
   "name": "python",
   "nbconvert_exporter": "python",
   "pygments_lexer": "ipython3",
   "version": "3.9.7"
  }
 },
 "nbformat": 4,
 "nbformat_minor": 5
}
