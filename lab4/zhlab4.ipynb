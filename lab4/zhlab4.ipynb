{
 "cells": [
  {
   "cell_type": "code",
   "execution_count": 1,
   "id": "d452d414",
   "metadata": {},
   "outputs": [],
   "source": [
    "import pandas as pd\n",
    "from sklearn.feature_extraction.text import CountVectorizer, TfidfVectorizer\n",
    "from sklearn.metrics.pairwise import cosine_similarity, euclidean_distances, manhattan_distances"
   ]
  },
  {
   "cell_type": "code",
   "execution_count": 2,
   "id": "d8b703ed",
   "metadata": {},
   "outputs": [
    {
     "data": {
      "text/html": [
       "<div>\n",
       "<style scoped>\n",
       "    .dataframe tbody tr th:only-of-type {\n",
       "        vertical-align: middle;\n",
       "    }\n",
       "\n",
       "    .dataframe tbody tr th {\n",
       "        vertical-align: top;\n",
       "    }\n",
       "\n",
       "    .dataframe thead th {\n",
       "        text-align: right;\n",
       "    }\n",
       "</style>\n",
       "<table border=\"1\" class=\"dataframe\">\n",
       "  <thead>\n",
       "    <tr style=\"text-align: right;\">\n",
       "      <th></th>\n",
       "      <th>Poster_Link</th>\n",
       "      <th>Series_Title</th>\n",
       "      <th>Released_Year</th>\n",
       "      <th>Certificate</th>\n",
       "      <th>Runtime</th>\n",
       "      <th>Genre</th>\n",
       "      <th>IMDB_Rating</th>\n",
       "      <th>Overview</th>\n",
       "      <th>Meta_score</th>\n",
       "      <th>Director</th>\n",
       "      <th>Star1</th>\n",
       "      <th>Star2</th>\n",
       "      <th>Star3</th>\n",
       "      <th>Star4</th>\n",
       "      <th>No_of_Votes</th>\n",
       "      <th>Gross</th>\n",
       "    </tr>\n",
       "  </thead>\n",
       "  <tbody>\n",
       "    <tr>\n",
       "      <th>0</th>\n",
       "      <td>https://m.media-amazon.com/images/M/MV5BMDFkYT...</td>\n",
       "      <td>The Shawshank Redemption</td>\n",
       "      <td>1994</td>\n",
       "      <td>A</td>\n",
       "      <td>142 min</td>\n",
       "      <td>Drama</td>\n",
       "      <td>9.3</td>\n",
       "      <td>Two imprisoned men bond over a number of years...</td>\n",
       "      <td>80.0</td>\n",
       "      <td>Frank Darabont</td>\n",
       "      <td>Tim Robbins</td>\n",
       "      <td>Morgan Freeman</td>\n",
       "      <td>Bob Gunton</td>\n",
       "      <td>William Sadler</td>\n",
       "      <td>2343110</td>\n",
       "      <td>28,341,469</td>\n",
       "    </tr>\n",
       "    <tr>\n",
       "      <th>1</th>\n",
       "      <td>https://m.media-amazon.com/images/M/MV5BM2MyNj...</td>\n",
       "      <td>The Godfather</td>\n",
       "      <td>1972</td>\n",
       "      <td>A</td>\n",
       "      <td>175 min</td>\n",
       "      <td>Crime, Drama</td>\n",
       "      <td>9.2</td>\n",
       "      <td>An organized crime dynasty's aging patriarch t...</td>\n",
       "      <td>100.0</td>\n",
       "      <td>Francis Ford Coppola</td>\n",
       "      <td>Marlon Brando</td>\n",
       "      <td>Al Pacino</td>\n",
       "      <td>James Caan</td>\n",
       "      <td>Diane Keaton</td>\n",
       "      <td>1620367</td>\n",
       "      <td>134,966,411</td>\n",
       "    </tr>\n",
       "    <tr>\n",
       "      <th>2</th>\n",
       "      <td>https://m.media-amazon.com/images/M/MV5BMTMxNT...</td>\n",
       "      <td>The Dark Knight</td>\n",
       "      <td>2008</td>\n",
       "      <td>UA</td>\n",
       "      <td>152 min</td>\n",
       "      <td>Action, Crime, Drama</td>\n",
       "      <td>9.0</td>\n",
       "      <td>When the menace known as the Joker wreaks havo...</td>\n",
       "      <td>84.0</td>\n",
       "      <td>Christopher Nolan</td>\n",
       "      <td>Christian Bale</td>\n",
       "      <td>Heath Ledger</td>\n",
       "      <td>Aaron Eckhart</td>\n",
       "      <td>Michael Caine</td>\n",
       "      <td>2303232</td>\n",
       "      <td>534,858,444</td>\n",
       "    </tr>\n",
       "    <tr>\n",
       "      <th>3</th>\n",
       "      <td>https://m.media-amazon.com/images/M/MV5BMWMwMG...</td>\n",
       "      <td>The Godfather: Part II</td>\n",
       "      <td>1974</td>\n",
       "      <td>A</td>\n",
       "      <td>202 min</td>\n",
       "      <td>Crime, Drama</td>\n",
       "      <td>9.0</td>\n",
       "      <td>The early life and career of Vito Corleone in ...</td>\n",
       "      <td>90.0</td>\n",
       "      <td>Francis Ford Coppola</td>\n",
       "      <td>Al Pacino</td>\n",
       "      <td>Robert De Niro</td>\n",
       "      <td>Robert Duvall</td>\n",
       "      <td>Diane Keaton</td>\n",
       "      <td>1129952</td>\n",
       "      <td>57,300,000</td>\n",
       "    </tr>\n",
       "    <tr>\n",
       "      <th>4</th>\n",
       "      <td>https://m.media-amazon.com/images/M/MV5BMWU4N2...</td>\n",
       "      <td>12 Angry Men</td>\n",
       "      <td>1957</td>\n",
       "      <td>U</td>\n",
       "      <td>96 min</td>\n",
       "      <td>Crime, Drama</td>\n",
       "      <td>9.0</td>\n",
       "      <td>A jury holdout attempts to prevent a miscarria...</td>\n",
       "      <td>96.0</td>\n",
       "      <td>Sidney Lumet</td>\n",
       "      <td>Henry Fonda</td>\n",
       "      <td>Lee J. Cobb</td>\n",
       "      <td>Martin Balsam</td>\n",
       "      <td>John Fiedler</td>\n",
       "      <td>689845</td>\n",
       "      <td>4,360,000</td>\n",
       "    </tr>\n",
       "  </tbody>\n",
       "</table>\n",
       "</div>"
      ],
      "text/plain": [
       "                                         Poster_Link  \\\n",
       "0  https://m.media-amazon.com/images/M/MV5BMDFkYT...   \n",
       "1  https://m.media-amazon.com/images/M/MV5BM2MyNj...   \n",
       "2  https://m.media-amazon.com/images/M/MV5BMTMxNT...   \n",
       "3  https://m.media-amazon.com/images/M/MV5BMWMwMG...   \n",
       "4  https://m.media-amazon.com/images/M/MV5BMWU4N2...   \n",
       "\n",
       "               Series_Title Released_Year Certificate  Runtime  \\\n",
       "0  The Shawshank Redemption          1994           A  142 min   \n",
       "1             The Godfather          1972           A  175 min   \n",
       "2           The Dark Knight          2008          UA  152 min   \n",
       "3    The Godfather: Part II          1974           A  202 min   \n",
       "4              12 Angry Men          1957           U   96 min   \n",
       "\n",
       "                  Genre  IMDB_Rating  \\\n",
       "0                 Drama          9.3   \n",
       "1          Crime, Drama          9.2   \n",
       "2  Action, Crime, Drama          9.0   \n",
       "3          Crime, Drama          9.0   \n",
       "4          Crime, Drama          9.0   \n",
       "\n",
       "                                            Overview  Meta_score  \\\n",
       "0  Two imprisoned men bond over a number of years...        80.0   \n",
       "1  An organized crime dynasty's aging patriarch t...       100.0   \n",
       "2  When the menace known as the Joker wreaks havo...        84.0   \n",
       "3  The early life and career of Vito Corleone in ...        90.0   \n",
       "4  A jury holdout attempts to prevent a miscarria...        96.0   \n",
       "\n",
       "               Director           Star1           Star2          Star3  \\\n",
       "0        Frank Darabont     Tim Robbins  Morgan Freeman     Bob Gunton   \n",
       "1  Francis Ford Coppola   Marlon Brando       Al Pacino     James Caan   \n",
       "2     Christopher Nolan  Christian Bale    Heath Ledger  Aaron Eckhart   \n",
       "3  Francis Ford Coppola       Al Pacino  Robert De Niro  Robert Duvall   \n",
       "4          Sidney Lumet     Henry Fonda     Lee J. Cobb  Martin Balsam   \n",
       "\n",
       "            Star4  No_of_Votes        Gross  \n",
       "0  William Sadler      2343110   28,341,469  \n",
       "1    Diane Keaton      1620367  134,966,411  \n",
       "2   Michael Caine      2303232  534,858,444  \n",
       "3    Diane Keaton      1129952   57,300,000  \n",
       "4    John Fiedler       689845    4,360,000  "
      ]
     },
     "execution_count": 2,
     "metadata": {},
     "output_type": "execute_result"
    }
   ],
   "source": [
    "df_perf_all = pd.read_csv(r'C:\\Users\\zhouhang\\Desktop\\imdb_top_1000.csv', sep=\",\", encoding = 'ansi')\n",
    "df_perf_all.head()"
   ]
  },
  {
   "cell_type": "code",
   "execution_count": 3,
   "id": "d2c29e73",
   "metadata": {},
   "outputs": [
    {
     "data": {
      "text/plain": [
       "(1000, 16)"
      ]
     },
     "execution_count": 3,
     "metadata": {},
     "output_type": "execute_result"
    }
   ],
   "source": [
    "df_perf_all.shape"
   ]
  },
  {
   "cell_type": "code",
   "execution_count": 4,
   "id": "be551d67",
   "metadata": {},
   "outputs": [],
   "source": [
    "df_perf_with_description = df_perf_all[df_perf_all['Overview'].notnull()]\n",
    "df_perf_with_description = df_perf_with_description[~df_perf_with_description['Overview'].str.isspace()]"
   ]
  },
  {
   "cell_type": "code",
   "execution_count": 5,
   "id": "c760a5f7",
   "metadata": {},
   "outputs": [
    {
     "data": {
      "text/plain": [
       "array(['The Shawshank Redemption', 'The Godfather', 'The Dark Knight',\n",
       "       'The Godfather: Part II', '12 Angry Men',\n",
       "       'The Lord of the Rings: The Return of the King'], dtype=object)"
      ]
     },
     "execution_count": 5,
     "metadata": {},
     "output_type": "execute_result"
    }
   ],
   "source": [
    "name = df_perf_with_description['Series_Title'].values\n",
    "name[0:6]"
   ]
  },
  {
   "cell_type": "code",
   "execution_count": 6,
   "id": "bd2d2b00",
   "metadata": {},
   "outputs": [
    {
     "data": {
      "text/plain": [
       "array(['The Shawshank Redemption', 'The Godfather', 'The Dark Knight',\n",
       "       'The Godfather: Part II', '12 Angry Men'], dtype=object)"
      ]
     },
     "execution_count": 6,
     "metadata": {},
     "output_type": "execute_result"
    }
   ],
   "source": [
    "notes = df_perf_with_description['Series_Title'].values\n",
    "notes[0:5]"
   ]
  },
  {
   "cell_type": "code",
   "execution_count": 7,
   "id": "14a0e98b",
   "metadata": {},
   "outputs": [
    {
     "data": {
      "text/plain": [
       "array(['Two imprisoned men bond over a number of years, finding solace and eventual redemption through acts of common decency.',\n",
       "       \"An organized crime dynasty's aging patriarch transfers control of his clandestine empire to his reluctant son.\",\n",
       "       'When the menace known as the Joker wreaks havoc and chaos on the people of Gotham, Batman must accept one of the greatest psychological and physical tests of his ability to fight injustice.'],\n",
       "      dtype=object)"
      ]
     },
     "execution_count": 7,
     "metadata": {},
     "output_type": "execute_result"
    }
   ],
   "source": [
    "descr = df_perf_with_description['Overview'].values\n",
    "descr[0:3]"
   ]
  },
  {
   "cell_type": "code",
   "execution_count": 8,
   "id": "93943a81",
   "metadata": {},
   "outputs": [
    {
     "data": {
      "text/plain": [
       "<1000x5648 sparse matrix of type '<class 'numpy.float64'>'\n",
       "\twith 21677 stored elements in Compressed Sparse Row format>"
      ]
     },
     "execution_count": 8,
     "metadata": {},
     "output_type": "execute_result"
    }
   ],
   "source": [
    "tfidfv = TfidfVectorizer()\n",
    "descr_matrix = tfidfv.fit_transform(descr)\n",
    "descr_matrix"
   ]
  },
  {
   "cell_type": "code",
   "execution_count": 9,
   "id": "d7007b41",
   "metadata": {},
   "outputs": [
    {
     "data": {
      "text/plain": [
       "<1000x5648 sparse matrix of type '<class 'numpy.int64'>'\n",
       "\twith 21677 stored elements in Compressed Sparse Row format>"
      ]
     },
     "execution_count": 9,
     "metadata": {},
     "output_type": "execute_result"
    }
   ],
   "source": [
    "countv = CountVectorizer()\n",
    "descr_matrix_co = countv.fit_transform(descr)\n",
    "descr_matrix_co"
   ]
  },
  {
   "cell_type": "code",
   "execution_count": 10,
   "id": "98d96cbd",
   "metadata": {},
   "outputs": [],
   "source": [
    "class SimpleKNNRecommender:\n",
    "    \n",
    "    def __init__(self, X_matrix, X_names, X_notes, X_descr):\n",
    "        \"\"\"\n",
    "        Входные параметры:\n",
    "        X_matrix - обучающая выборка (матрица объект-признак)\n",
    "        X_ids - массив идентификаторов объектов\n",
    "        X_title - массив названий объектов\n",
    "        X_overview - массив описаний объектов\n",
    "        \"\"\"\n",
    "        #Сохраняем параметры в переменных объекта\n",
    "        self._X_matrix = X_matrix\n",
    "        self.df = pd.DataFrame(\n",
    "            {'Perfume Name': pd.Series(X_names, dtype='str'),\n",
    "            'Notes': pd.Series(X_notes, dtype='str'),\n",
    "            'Description': pd.Series(X_descr, dtype='str'),\n",
    "            'Dist': pd.Series([], dtype='float')})\n",
    "            \n",
    "            \n",
    "    def recommend_for_single_object(self, K: int, \\\n",
    "                X_matrix_object, cos_flag = True, manh_flag = False):\n",
    "        \"\"\"\n",
    "        Метод формирования рекомендаций для одного объекта.\n",
    "        Входные параметры:\n",
    "        K - количество рекомендуемых соседей \n",
    "        X_matrix_object - строка матрицы объект-признак, соответствующая объекту\n",
    "        cos_flag - флаг вычисления косинусного расстояния\n",
    "        manh_flag - флаг вычисления манхэттэнского расстояния\n",
    "        Возвращаемое значение: K найденных соседей\n",
    "        \"\"\"\n",
    "        \n",
    "        scale = 1000000\n",
    "        # Вычисляем косинусную близость\n",
    "        if cos_flag:\n",
    "            dist = cosine_similarity(self._X_matrix, X_matrix_object)\n",
    "            self.df['Dist'] = dist * scale\n",
    "            res = self.df.sort_values(by='Dist', ascending=False)\n",
    "            # Не учитываем рекомендации с единичным расстоянием,\n",
    "            # так как это искомый объект\n",
    "            res = res[res['Dist'] < scale]\n",
    "        \n",
    "        else:\n",
    "            if manh_flag:\n",
    "                dist = manhattan_distances(self._X_matrix, X_matrix_object)\n",
    "            else:\n",
    "                dist = euclidean_distances(self._X_matrix, X_matrix_object)\n",
    "            self.df['Dist'] = dist * scale\n",
    "            res = self.df.sort_values(by='Dist', ascending=True)\n",
    "            # Не учитываем рекомендации с единичным расстоянием,\n",
    "            # так как это искомый объект\n",
    "            res = res[res['Dist'] > 0.0]            \n",
    "        \n",
    "        # Оставляем К первых рекомендаций\n",
    "        res = res.head(K)\n",
    "        return res"
   ]
  },
  {
   "cell_type": "code",
   "execution_count": 12,
   "id": "24abd576",
   "metadata": {},
   "outputs": [
    {
     "data": {
      "text/plain": [
       "'Bacheha-Ye aseman'"
      ]
     },
     "execution_count": 12,
     "metadata": {},
     "output_type": "execute_result"
    }
   ],
   "source": [
    "test_perfume_name = 100\n",
    "name[test_perfume_name]"
   ]
  },
  {
   "cell_type": "code",
   "execution_count": 13,
   "id": "77eb88ac",
   "metadata": {},
   "outputs": [
    {
     "data": {
      "text/plain": [
       "<1x5648 sparse matrix of type '<class 'numpy.float64'>'\n",
       "\twith 24 stored elements in Compressed Sparse Row format>"
      ]
     },
     "execution_count": 13,
     "metadata": {},
     "output_type": "execute_result"
    }
   ],
   "source": [
    "test_perfume_matrix = descr_matrix[test_perfume_name]\n",
    "test_perfume_matrix"
   ]
  },
  {
   "cell_type": "code",
   "execution_count": 14,
   "id": "c61f25d8",
   "metadata": {},
   "outputs": [],
   "source": [
    "skr1 = SimpleKNNRecommender(descr_matrix, name, notes, descr)"
   ]
  },
  {
   "cell_type": "code",
   "execution_count": 15,
   "id": "03d27d68",
   "metadata": {},
   "outputs": [
    {
     "data": {
      "text/plain": [
       "Poster_Link      https://m.media-amazon.com/images/M/MV5BZTYwZW...\n",
       "Series_Title                                     Bacheha-Ye aseman\n",
       "Released_Year                                                 1997\n",
       "Certificate                                                     PG\n",
       "Runtime                                                     89 min\n",
       "Genre                                         Drama, Family, Sport\n",
       "IMDB_Rating                                                    8.3\n",
       "Overview         After a boy loses his sister's pair of shoes, ...\n",
       "Meta_score                                                    77.0\n",
       "Director                                              Majid Majidi\n",
       "Star1                                           Mohammad Amir Naji\n",
       "Star2                                       Amir Farrokh Hashemian\n",
       "Star3                                               Bahare Seddiqi\n",
       "Star4                                       Nafise Jafar-Mohammadi\n",
       "No_of_Votes                                                  65341\n",
       "Gross                                                      933,933\n",
       "Name: 100, dtype: object"
      ]
     },
     "execution_count": 15,
     "metadata": {},
     "output_type": "execute_result"
    }
   ],
   "source": [
    "test = df_perf_with_description.iloc[test_perfume_name]\n",
    "test"
   ]
  },
  {
   "cell_type": "code",
   "execution_count": 16,
   "id": "8dcd82c5",
   "metadata": {},
   "outputs": [
    {
     "data": {
      "text/html": [
       "<div>\n",
       "<style scoped>\n",
       "    .dataframe tbody tr th:only-of-type {\n",
       "        vertical-align: middle;\n",
       "    }\n",
       "\n",
       "    .dataframe tbody tr th {\n",
       "        vertical-align: top;\n",
       "    }\n",
       "\n",
       "    .dataframe thead th {\n",
       "        text-align: right;\n",
       "    }\n",
       "</style>\n",
       "<table border=\"1\" class=\"dataframe\">\n",
       "  <thead>\n",
       "    <tr style=\"text-align: right;\">\n",
       "      <th></th>\n",
       "      <th>Perfume Name</th>\n",
       "      <th>Notes</th>\n",
       "      <th>Description</th>\n",
       "      <th>Dist</th>\n",
       "    </tr>\n",
       "  </thead>\n",
       "  <tbody>\n",
       "    <tr>\n",
       "      <th>598</th>\n",
       "      <td>Moonrise Kingdom</td>\n",
       "      <td>Moonrise Kingdom</td>\n",
       "      <td>A pair of young lovers flee their New England ...</td>\n",
       "      <td>251966.634008</td>\n",
       "    </tr>\n",
       "    <tr>\n",
       "      <th>121</th>\n",
       "      <td>Ikiru</td>\n",
       "      <td>Ikiru</td>\n",
       "      <td>A bureaucrat tries to find a meaning in his li...</td>\n",
       "      <td>233591.757218</td>\n",
       "    </tr>\n",
       "    <tr>\n",
       "      <th>973</th>\n",
       "      <td>Home Alone</td>\n",
       "      <td>Home Alone</td>\n",
       "      <td>An eight-year-old troublemaker must protect hi...</td>\n",
       "      <td>184947.952067</td>\n",
       "    </tr>\n",
       "    <tr>\n",
       "      <th>878</th>\n",
       "      <td>Searching</td>\n",
       "      <td>Searching</td>\n",
       "      <td>After his teenage daughter goes missing, a des...</td>\n",
       "      <td>181669.275204</td>\n",
       "    </tr>\n",
       "    <tr>\n",
       "      <th>437</th>\n",
       "      <td>Anatomy of a Murder</td>\n",
       "      <td>Anatomy of a Murder</td>\n",
       "      <td>In a murder trial, the defendant says he suffe...</td>\n",
       "      <td>168386.310442</td>\n",
       "    </tr>\n",
       "    <tr>\n",
       "      <th>207</th>\n",
       "      <td>PK</td>\n",
       "      <td>PK</td>\n",
       "      <td>An alien on Earth loses the only device he can...</td>\n",
       "      <td>163985.222208</td>\n",
       "    </tr>\n",
       "    <tr>\n",
       "      <th>329</th>\n",
       "      <td>The Martian</td>\n",
       "      <td>The Martian</td>\n",
       "      <td>An astronaut becomes stranded on Mars after hi...</td>\n",
       "      <td>161850.938670</td>\n",
       "    </tr>\n",
       "    <tr>\n",
       "      <th>942</th>\n",
       "      <td>The Butterfly Effect</td>\n",
       "      <td>The Butterfly Effect</td>\n",
       "      <td>Evan Treborn suffers blackouts during signific...</td>\n",
       "      <td>151645.816810</td>\n",
       "    </tr>\n",
       "    <tr>\n",
       "      <th>521</th>\n",
       "      <td>Trois couleurs: Bleu</td>\n",
       "      <td>Trois couleurs: Bleu</td>\n",
       "      <td>A woman struggles to find a way to live her li...</td>\n",
       "      <td>148541.441886</td>\n",
       "    </tr>\n",
       "    <tr>\n",
       "      <th>6</th>\n",
       "      <td>Pulp Fiction</td>\n",
       "      <td>Pulp Fiction</td>\n",
       "      <td>The lives of two mob hitmen, a boxer, a gangst...</td>\n",
       "      <td>148225.423635</td>\n",
       "    </tr>\n",
       "    <tr>\n",
       "      <th>933</th>\n",
       "      <td>Synecdoche, New York</td>\n",
       "      <td>Synecdoche, New York</td>\n",
       "      <td>A theatre director struggles with his work, an...</td>\n",
       "      <td>144414.179186</td>\n",
       "    </tr>\n",
       "    <tr>\n",
       "      <th>983</th>\n",
       "      <td>The Warriors</td>\n",
       "      <td>The Warriors</td>\n",
       "      <td>In the near future, a charismatic leader summo...</td>\n",
       "      <td>140346.086862</td>\n",
       "    </tr>\n",
       "    <tr>\n",
       "      <th>172</th>\n",
       "      <td>Ran</td>\n",
       "      <td>Ran</td>\n",
       "      <td>In Medieval Japan, an elderly warlord retires,...</td>\n",
       "      <td>138361.225249</td>\n",
       "    </tr>\n",
       "    <tr>\n",
       "      <th>660</th>\n",
       "      <td>The Sandlot</td>\n",
       "      <td>The Sandlot</td>\n",
       "      <td>In the summer of 1962, a new kid in town is ta...</td>\n",
       "      <td>135444.423582</td>\n",
       "    </tr>\n",
       "    <tr>\n",
       "      <th>455</th>\n",
       "      <td>Arsenic and Old Lace</td>\n",
       "      <td>Arsenic and Old Lace</td>\n",
       "      <td>A writer of books on the futility of marriage ...</td>\n",
       "      <td>131806.889520</td>\n",
       "    </tr>\n",
       "  </tbody>\n",
       "</table>\n",
       "</div>"
      ],
      "text/plain": [
       "             Perfume Name                 Notes  \\\n",
       "598      Moonrise Kingdom      Moonrise Kingdom   \n",
       "121                 Ikiru                 Ikiru   \n",
       "973            Home Alone            Home Alone   \n",
       "878             Searching             Searching   \n",
       "437   Anatomy of a Murder   Anatomy of a Murder   \n",
       "207                    PK                    PK   \n",
       "329           The Martian           The Martian   \n",
       "942  The Butterfly Effect  The Butterfly Effect   \n",
       "521  Trois couleurs: Bleu  Trois couleurs: Bleu   \n",
       "6            Pulp Fiction          Pulp Fiction   \n",
       "933  Synecdoche, New York  Synecdoche, New York   \n",
       "983          The Warriors          The Warriors   \n",
       "172                   Ran                   Ran   \n",
       "660           The Sandlot           The Sandlot   \n",
       "455  Arsenic and Old Lace  Arsenic and Old Lace   \n",
       "\n",
       "                                           Description           Dist  \n",
       "598  A pair of young lovers flee their New England ...  251966.634008  \n",
       "121  A bureaucrat tries to find a meaning in his li...  233591.757218  \n",
       "973  An eight-year-old troublemaker must protect hi...  184947.952067  \n",
       "878  After his teenage daughter goes missing, a des...  181669.275204  \n",
       "437  In a murder trial, the defendant says he suffe...  168386.310442  \n",
       "207  An alien on Earth loses the only device he can...  163985.222208  \n",
       "329  An astronaut becomes stranded on Mars after hi...  161850.938670  \n",
       "942  Evan Treborn suffers blackouts during signific...  151645.816810  \n",
       "521  A woman struggles to find a way to live her li...  148541.441886  \n",
       "6    The lives of two mob hitmen, a boxer, a gangst...  148225.423635  \n",
       "933  A theatre director struggles with his work, an...  144414.179186  \n",
       "983  In the near future, a charismatic leader summo...  140346.086862  \n",
       "172  In Medieval Japan, an elderly warlord retires,...  138361.225249  \n",
       "660  In the summer of 1962, a new kid in town is ta...  135444.423582  \n",
       "455  A writer of books on the futility of marriage ...  131806.889520  "
      ]
     },
     "execution_count": 16,
     "metadata": {},
     "output_type": "execute_result"
    }
   ],
   "source": [
    "rec1 = skr1.recommend_for_single_object(15, test_perfume_matrix)\n",
    "rec1"
   ]
  },
  {
   "cell_type": "code",
   "execution_count": 17,
   "id": "d51cb266",
   "metadata": {},
   "outputs": [
    {
     "data": {
      "text/plain": [
       "<1x5648 sparse matrix of type '<class 'numpy.int64'>'\n",
       "\twith 24 stored elements in Compressed Sparse Row format>"
      ]
     },
     "execution_count": 17,
     "metadata": {},
     "output_type": "execute_result"
    }
   ],
   "source": [
    "test_perfume_matrix_co = descr_matrix_co[test_perfume_name]\n",
    "test_perfume_matrix_co"
   ]
  },
  {
   "cell_type": "code",
   "execution_count": 18,
   "id": "699f82af",
   "metadata": {},
   "outputs": [],
   "source": [
    "skr2 = SimpleKNNRecommender(descr_matrix_co, name, notes, descr)"
   ]
  },
  {
   "cell_type": "code",
   "execution_count": 19,
   "id": "5e79854f",
   "metadata": {},
   "outputs": [
    {
     "data": {
      "text/html": [
       "<div>\n",
       "<style scoped>\n",
       "    .dataframe tbody tr th:only-of-type {\n",
       "        vertical-align: middle;\n",
       "    }\n",
       "\n",
       "    .dataframe tbody tr th {\n",
       "        vertical-align: top;\n",
       "    }\n",
       "\n",
       "    .dataframe thead th {\n",
       "        text-align: right;\n",
       "    }\n",
       "</style>\n",
       "<table border=\"1\" class=\"dataframe\">\n",
       "  <thead>\n",
       "    <tr style=\"text-align: right;\">\n",
       "      <th></th>\n",
       "      <th>Perfume Name</th>\n",
       "      <th>Notes</th>\n",
       "      <th>Description</th>\n",
       "      <th>Dist</th>\n",
       "    </tr>\n",
       "  </thead>\n",
       "  <tbody>\n",
       "    <tr>\n",
       "      <th>121</th>\n",
       "      <td>Ikiru</td>\n",
       "      <td>Ikiru</td>\n",
       "      <td>A bureaucrat tries to find a meaning in his li...</td>\n",
       "      <td>5.916080e+06</td>\n",
       "    </tr>\n",
       "    <tr>\n",
       "      <th>598</th>\n",
       "      <td>Moonrise Kingdom</td>\n",
       "      <td>Moonrise Kingdom</td>\n",
       "      <td>A pair of young lovers flee their New England ...</td>\n",
       "      <td>6.480741e+06</td>\n",
       "    </tr>\n",
       "    <tr>\n",
       "      <th>878</th>\n",
       "      <td>Searching</td>\n",
       "      <td>Searching</td>\n",
       "      <td>After his teenage daughter goes missing, a des...</td>\n",
       "      <td>6.557439e+06</td>\n",
       "    </tr>\n",
       "    <tr>\n",
       "      <th>381</th>\n",
       "      <td>Vizontele</td>\n",
       "      <td>Vizontele</td>\n",
       "      <td>Lives of residents in a small Anatolian villag...</td>\n",
       "      <td>6.633250e+06</td>\n",
       "    </tr>\n",
       "    <tr>\n",
       "      <th>187</th>\n",
       "      <td>Dial M for Murder</td>\n",
       "      <td>Dial M for Murder</td>\n",
       "      <td>A former tennis player tries to arrange his wi...</td>\n",
       "      <td>6.633250e+06</td>\n",
       "    </tr>\n",
       "    <tr>\n",
       "      <th>619</th>\n",
       "      <td>Auf der anderen Seite</td>\n",
       "      <td>Auf der anderen Seite</td>\n",
       "      <td>A Turkish man travels to Istanbul to find the ...</td>\n",
       "      <td>6.633250e+06</td>\n",
       "    </tr>\n",
       "    <tr>\n",
       "      <th>674</th>\n",
       "      <td>Dip huet seung hung</td>\n",
       "      <td>Dip huet seung hung</td>\n",
       "      <td>A disillusioned assassin accepts one last hit ...</td>\n",
       "      <td>6.633250e+06</td>\n",
       "    </tr>\n",
       "    <tr>\n",
       "      <th>876</th>\n",
       "      <td>The Invisible Man</td>\n",
       "      <td>The Invisible Man</td>\n",
       "      <td>A scientist finds a way of becoming invisible,...</td>\n",
       "      <td>6.633250e+06</td>\n",
       "    </tr>\n",
       "    <tr>\n",
       "      <th>360</th>\n",
       "      <td>The Pursuit of Happyness</td>\n",
       "      <td>The Pursuit of Happyness</td>\n",
       "      <td>A struggling salesman takes custody of his son...</td>\n",
       "      <td>6.633250e+06</td>\n",
       "    </tr>\n",
       "    <tr>\n",
       "      <th>571</th>\n",
       "      <td>Sound of Metal</td>\n",
       "      <td>Sound of Metal</td>\n",
       "      <td>A heavy-metal drummer's life is thrown into fr...</td>\n",
       "      <td>6.708204e+06</td>\n",
       "    </tr>\n",
       "    <tr>\n",
       "      <th>784</th>\n",
       "      <td>The Last Samurai</td>\n",
       "      <td>The Last Samurai</td>\n",
       "      <td>An American military advisor embraces the Samu...</td>\n",
       "      <td>6.708204e+06</td>\n",
       "    </tr>\n",
       "    <tr>\n",
       "      <th>238</th>\n",
       "      <td>Munna Bhai M.B.B.S.</td>\n",
       "      <td>Munna Bhai M.B.B.S.</td>\n",
       "      <td>A gangster sets out to fulfill his father's dr...</td>\n",
       "      <td>6.708204e+06</td>\n",
       "    </tr>\n",
       "    <tr>\n",
       "      <th>491</th>\n",
       "      <td>Boyhood</td>\n",
       "      <td>Boyhood</td>\n",
       "      <td>The life of Mason, from early childhood to his...</td>\n",
       "      <td>6.782330e+06</td>\n",
       "    </tr>\n",
       "    <tr>\n",
       "      <th>828</th>\n",
       "      <td>Who Framed Roger Rabbit</td>\n",
       "      <td>Who Framed Roger Rabbit</td>\n",
       "      <td>A toon-hating detective is a cartoon rabbit's ...</td>\n",
       "      <td>6.782330e+06</td>\n",
       "    </tr>\n",
       "    <tr>\n",
       "      <th>765</th>\n",
       "      <td>Efter brylluppet</td>\n",
       "      <td>Efter brylluppet</td>\n",
       "      <td>A manager of an orphanage in India is sent to ...</td>\n",
       "      <td>6.782330e+06</td>\n",
       "    </tr>\n",
       "  </tbody>\n",
       "</table>\n",
       "</div>"
      ],
      "text/plain": [
       "                 Perfume Name                     Notes  \\\n",
       "121                     Ikiru                     Ikiru   \n",
       "598          Moonrise Kingdom          Moonrise Kingdom   \n",
       "878                 Searching                 Searching   \n",
       "381                 Vizontele                 Vizontele   \n",
       "187         Dial M for Murder         Dial M for Murder   \n",
       "619     Auf der anderen Seite     Auf der anderen Seite   \n",
       "674       Dip huet seung hung       Dip huet seung hung   \n",
       "876         The Invisible Man         The Invisible Man   \n",
       "360  The Pursuit of Happyness  The Pursuit of Happyness   \n",
       "571            Sound of Metal            Sound of Metal   \n",
       "784          The Last Samurai          The Last Samurai   \n",
       "238       Munna Bhai M.B.B.S.       Munna Bhai M.B.B.S.   \n",
       "491                   Boyhood                   Boyhood   \n",
       "828   Who Framed Roger Rabbit   Who Framed Roger Rabbit   \n",
       "765          Efter brylluppet          Efter brylluppet   \n",
       "\n",
       "                                           Description          Dist  \n",
       "121  A bureaucrat tries to find a meaning in his li...  5.916080e+06  \n",
       "598  A pair of young lovers flee their New England ...  6.480741e+06  \n",
       "878  After his teenage daughter goes missing, a des...  6.557439e+06  \n",
       "381  Lives of residents in a small Anatolian villag...  6.633250e+06  \n",
       "187  A former tennis player tries to arrange his wi...  6.633250e+06  \n",
       "619  A Turkish man travels to Istanbul to find the ...  6.633250e+06  \n",
       "674  A disillusioned assassin accepts one last hit ...  6.633250e+06  \n",
       "876  A scientist finds a way of becoming invisible,...  6.633250e+06  \n",
       "360  A struggling salesman takes custody of his son...  6.633250e+06  \n",
       "571  A heavy-metal drummer's life is thrown into fr...  6.708204e+06  \n",
       "784  An American military advisor embraces the Samu...  6.708204e+06  \n",
       "238  A gangster sets out to fulfill his father's dr...  6.708204e+06  \n",
       "491  The life of Mason, from early childhood to his...  6.782330e+06  \n",
       "828  A toon-hating detective is a cartoon rabbit's ...  6.782330e+06  \n",
       "765  A manager of an orphanage in India is sent to ...  6.782330e+06  "
      ]
     },
     "execution_count": 19,
     "metadata": {},
     "output_type": "execute_result"
    }
   ],
   "source": [
    "rec2 = skr2.recommend_for_single_object(15, test_perfume_matrix_co, cos_flag = False)\n",
    "rec2"
   ]
  },
  {
   "cell_type": "code",
   "execution_count": null,
   "id": "a9a07851",
   "metadata": {},
   "outputs": [],
   "source": []
  }
 ],
 "metadata": {
  "kernelspec": {
   "display_name": "Python 3 (ipykernel)",
   "language": "python",
   "name": "python3"
  },
  "language_info": {
   "codemirror_mode": {
    "name": "ipython",
    "version": 3
   },
   "file_extension": ".py",
   "mimetype": "text/x-python",
   "name": "python",
   "nbconvert_exporter": "python",
   "pygments_lexer": "ipython3",
   "version": "3.9.7"
  }
 },
 "nbformat": 4,
 "nbformat_minor": 5
}
