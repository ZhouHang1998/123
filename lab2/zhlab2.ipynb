{
 "cells": [
  {
   "cell_type": "code",
   "execution_count": 1,
   "id": "9769b9ea",
   "metadata": {},
   "outputs": [],
   "source": [
    "import numpy as np\n",
    "import pandas as pd\n",
    "import seaborn as sns\n",
    "import matplotlib.pyplot as plt\n",
    "from sklearn.impute import SimpleImputer\n",
    "from sklearn.impute import MissingIndicator\n",
    "from sklearn.impute import KNNImputer\n",
    "from sklearn.preprocessing import StandardScaler\n",
    "from sklearn.preprocessing import LabelEncoder\n",
    "from sklearn.preprocessing import OneHotEncoder\n",
    "from sklearn.pipeline import Pipeline\n",
    "from sklearn.model_selection import GridSearchCV\n",
    "from sklearn.experimental import enable_iterative_imputer\n",
    "from sklearn.impute import IterativeImputer\n",
    "from IPython.display import Image\n",
    "import matplotlib.pyplot as plt\n",
    "import scipy.stats as stats\n",
    "%matplotlib inline \n",
    "sns.set(style=\"ticks\")"
   ]
  },
  {
   "cell_type": "code",
   "execution_count": 8,
   "id": "df53313d",
   "metadata": {},
   "outputs": [
    {
     "data": {
      "text/html": [
       "<div>\n",
       "<style scoped>\n",
       "    .dataframe tbody tr th:only-of-type {\n",
       "        vertical-align: middle;\n",
       "    }\n",
       "\n",
       "    .dataframe tbody tr th {\n",
       "        vertical-align: top;\n",
       "    }\n",
       "\n",
       "    .dataframe thead th {\n",
       "        text-align: right;\n",
       "    }\n",
       "</style>\n",
       "<table border=\"1\" class=\"dataframe\">\n",
       "  <thead>\n",
       "    <tr style=\"text-align: right;\">\n",
       "      <th></th>\n",
       "      <th>Unnamed: 0</th>\n",
       "      <th>Title</th>\n",
       "      <th>Movie Info</th>\n",
       "      <th>Distributor</th>\n",
       "      <th>Release Date</th>\n",
       "      <th>Domestic Sales (in $)</th>\n",
       "      <th>International Sales (in $)</th>\n",
       "      <th>World Sales (in $)</th>\n",
       "      <th>Genre</th>\n",
       "      <th>Movie Runtime</th>\n",
       "      <th>License</th>\n",
       "    </tr>\n",
       "  </thead>\n",
       "  <tbody>\n",
       "    <tr>\n",
       "      <th>0</th>\n",
       "      <td>0</td>\n",
       "      <td>Star Wars: Episode VII - The Force Awakens (2015)</td>\n",
       "      <td>As a new threat to the galaxy rises, Rey, a de...</td>\n",
       "      <td>Walt Disney Studios Motion Pictures</td>\n",
       "      <td>December 16, 2015</td>\n",
       "      <td>936662225</td>\n",
       "      <td>1132859475</td>\n",
       "      <td>2069521700</td>\n",
       "      <td>['Action', 'Adventure', 'Sci-Fi']</td>\n",
       "      <td>2 hr 18 min</td>\n",
       "      <td>PG-13</td>\n",
       "    </tr>\n",
       "    <tr>\n",
       "      <th>1</th>\n",
       "      <td>1</td>\n",
       "      <td>Avengers: Endgame (2019)</td>\n",
       "      <td>After the devastating events of Avengers: Infi...</td>\n",
       "      <td>Walt Disney Studios Motion Pictures</td>\n",
       "      <td>April 24, 2019</td>\n",
       "      <td>858373000</td>\n",
       "      <td>1939128328</td>\n",
       "      <td>2797501328</td>\n",
       "      <td>['Action', 'Adventure', 'Drama', 'Sci-Fi']</td>\n",
       "      <td>3 hr 1 min</td>\n",
       "      <td>PG-13</td>\n",
       "    </tr>\n",
       "    <tr>\n",
       "      <th>2</th>\n",
       "      <td>2</td>\n",
       "      <td>Avatar (2009)</td>\n",
       "      <td>A paraplegic Marine dispatched to the moon Pan...</td>\n",
       "      <td>Twentieth Century Fox</td>\n",
       "      <td>December 16, 2009</td>\n",
       "      <td>760507625</td>\n",
       "      <td>2086738578</td>\n",
       "      <td>2847246203</td>\n",
       "      <td>['Action', 'Adventure', 'Fantasy', 'Sci-Fi']</td>\n",
       "      <td>2 hr 42 min</td>\n",
       "      <td>PG-13</td>\n",
       "    </tr>\n",
       "    <tr>\n",
       "      <th>3</th>\n",
       "      <td>3</td>\n",
       "      <td>Black Panther (2018)</td>\n",
       "      <td>T'Challa, heir to the hidden but advanced king...</td>\n",
       "      <td>Walt Disney Studios Motion Pictures</td>\n",
       "      <td>NaN</td>\n",
       "      <td>700426566</td>\n",
       "      <td>647171407</td>\n",
       "      <td>1347597973</td>\n",
       "      <td>['Action', 'Adventure', 'Sci-Fi']</td>\n",
       "      <td>2 hr 14 min</td>\n",
       "      <td>NaN</td>\n",
       "    </tr>\n",
       "    <tr>\n",
       "      <th>4</th>\n",
       "      <td>4</td>\n",
       "      <td>Avengers: Infinity War (2018)</td>\n",
       "      <td>The Avengers and their allies must be willing ...</td>\n",
       "      <td>Walt Disney Studios Motion Pictures</td>\n",
       "      <td>NaN</td>\n",
       "      <td>678815482</td>\n",
       "      <td>1369544272</td>\n",
       "      <td>2048359754</td>\n",
       "      <td>['Action', 'Adventure', 'Sci-Fi']</td>\n",
       "      <td>2 hr 29 min</td>\n",
       "      <td>NaN</td>\n",
       "    </tr>\n",
       "  </tbody>\n",
       "</table>\n",
       "</div>"
      ],
      "text/plain": [
       "   Unnamed: 0                                              Title  \\\n",
       "0           0  Star Wars: Episode VII - The Force Awakens (2015)   \n",
       "1           1                           Avengers: Endgame (2019)   \n",
       "2           2                                      Avatar (2009)   \n",
       "3           3                               Black Panther (2018)   \n",
       "4           4                      Avengers: Infinity War (2018)   \n",
       "\n",
       "                                          Movie Info  \\\n",
       "0  As a new threat to the galaxy rises, Rey, a de...   \n",
       "1  After the devastating events of Avengers: Infi...   \n",
       "2  A paraplegic Marine dispatched to the moon Pan...   \n",
       "3  T'Challa, heir to the hidden but advanced king...   \n",
       "4  The Avengers and their allies must be willing ...   \n",
       "\n",
       "                           Distributor       Release Date  \\\n",
       "0  Walt Disney Studios Motion Pictures  December 16, 2015   \n",
       "1  Walt Disney Studios Motion Pictures     April 24, 2019   \n",
       "2                Twentieth Century Fox  December 16, 2009   \n",
       "3  Walt Disney Studios Motion Pictures                NaN   \n",
       "4  Walt Disney Studios Motion Pictures                NaN   \n",
       "\n",
       "   Domestic Sales (in $)  International Sales (in $)  World Sales (in $)  \\\n",
       "0              936662225                  1132859475          2069521700   \n",
       "1              858373000                  1939128328          2797501328   \n",
       "2              760507625                  2086738578          2847246203   \n",
       "3              700426566                   647171407          1347597973   \n",
       "4              678815482                  1369544272          2048359754   \n",
       "\n",
       "                                          Genre Movie Runtime License  \n",
       "0             ['Action', 'Adventure', 'Sci-Fi']   2 hr 18 min   PG-13  \n",
       "1    ['Action', 'Adventure', 'Drama', 'Sci-Fi']    3 hr 1 min   PG-13  \n",
       "2  ['Action', 'Adventure', 'Fantasy', 'Sci-Fi']   2 hr 42 min   PG-13  \n",
       "3             ['Action', 'Adventure', 'Sci-Fi']   2 hr 14 min     NaN  \n",
       "4             ['Action', 'Adventure', 'Sci-Fi']   2 hr 29 min     NaN  "
      ]
     },
     "execution_count": 8,
     "metadata": {},
     "output_type": "execute_result"
    }
   ],
   "source": [
    "data = pd.read_csv(r'C:\\Users\\80667\\Desktop\\文件\\ИУ5\\研一下\\MMO\\数据集\\Highest Holywood Grossing Movies.csv')\n",
    "data.head()"
   ]
  },
  {
   "cell_type": "code",
   "execution_count": 9,
   "id": "a07b1487",
   "metadata": {},
   "outputs": [
    {
     "data": {
      "text/plain": [
       "Unnamed: 0                     int64\n",
       "Title                         object\n",
       "Movie Info                    object\n",
       "Distributor                   object\n",
       "Release Date                  object\n",
       "Domestic Sales (in $)          int64\n",
       "International Sales (in $)     int64\n",
       "World Sales (in $)             int64\n",
       "Genre                         object\n",
       "Movie Runtime                 object\n",
       "License                       object\n",
       "dtype: object"
      ]
     },
     "execution_count": 9,
     "metadata": {},
     "output_type": "execute_result"
    }
   ],
   "source": [
    "data.dtypes"
   ]
  },
  {
   "cell_type": "markdown",
   "id": "6397edb6",
   "metadata": {},
   "source": [
    "# Устранение пропусков в данных"
   ]
  },
  {
   "cell_type": "code",
   "execution_count": 10,
   "id": "bcc071ae",
   "metadata": {},
   "outputs": [
    {
     "data": {
      "text/plain": [
       "['Release Date', 'License']"
      ]
     },
     "execution_count": 10,
     "metadata": {},
     "output_type": "execute_result"
    }
   ],
   "source": [
    "# Колонки с пропусками\n",
    "hcols_with_na = [c for c in data.columns if data[c].isnull().sum() > 0]\n",
    "hcols_with_na"
   ]
  },
  {
   "cell_type": "code",
   "execution_count": 11,
   "id": "bba66524",
   "metadata": {},
   "outputs": [
    {
     "data": {
      "text/plain": [
       "[('Release Date', 0.12854030501089325), ('License', 0.1895424836601307)]"
      ]
     },
     "execution_count": 11,
     "metadata": {},
     "output_type": "execute_result"
    }
   ],
   "source": [
    "# Доля (процент) пропусков\n",
    "[(c, data[c].isnull().mean()) for c in hcols_with_na]"
   ]
  },
  {
   "cell_type": "code",
   "execution_count": 12,
   "id": "c1c78a36",
   "metadata": {},
   "outputs": [
    {
     "data": {
      "text/plain": [
       "(918, 11)"
      ]
     },
     "execution_count": 12,
     "metadata": {},
     "output_type": "execute_result"
    }
   ],
   "source": [
    "data.shape"
   ]
  },
  {
   "cell_type": "code",
   "execution_count": 13,
   "id": "73dce8cd",
   "metadata": {},
   "outputs": [],
   "source": [
    "data = data.dropna(axis=0, how='any')"
   ]
  },
  {
   "cell_type": "code",
   "execution_count": 14,
   "id": "34876dd2",
   "metadata": {},
   "outputs": [
    {
     "data": {
      "text/plain": [
       "Unnamed: 0                    0\n",
       "Title                         0\n",
       "Movie Info                    0\n",
       "Distributor                   0\n",
       "Release Date                  0\n",
       "Domestic Sales (in $)         0\n",
       "International Sales (in $)    0\n",
       "World Sales (in $)            0\n",
       "Genre                         0\n",
       "Movie Runtime                 0\n",
       "License                       0\n",
       "dtype: int64"
      ]
     },
     "execution_count": 14,
     "metadata": {},
     "output_type": "execute_result"
    }
   ],
   "source": [
    "data.isnull().sum()"
   ]
  },
  {
   "cell_type": "code",
   "execution_count": 15,
   "id": "5730641d",
   "metadata": {},
   "outputs": [
    {
     "data": {
      "text/plain": [
       "(744, 11)"
      ]
     },
     "execution_count": 15,
     "metadata": {},
     "output_type": "execute_result"
    }
   ],
   "source": [
    "data.shape"
   ]
  },
  {
   "cell_type": "markdown",
   "id": "64e0ce2c",
   "metadata": {},
   "source": [
    "# Кодирование категориальных признаков"
   ]
  },
  {
   "cell_type": "markdown",
   "id": "e0377c0d",
   "metadata": {},
   "source": [
    "## Кодирование категорий целочисленными значениями"
   ]
  },
  {
   "cell_type": "code",
   "execution_count": 17,
   "id": "ddc2bb31",
   "metadata": {},
   "outputs": [],
   "source": [
    "date = LabelEncoder()\n",
    "date_transform = date.fit_transform(data['Release Date'])"
   ]
  },
  {
   "cell_type": "code",
   "execution_count": 18,
   "id": "33973053",
   "metadata": {},
   "outputs": [
    {
     "data": {
      "text/plain": [
       "array(['December 16, 2015', 'April 24, 2019', 'December 16, 2009',\n",
       "       'December 19, 1997', 'June 10, 2015', 'April 25, 2012',\n",
       "       'December 13, 2017', 'July 11, 2019', 'July 16, 2008',\n",
       "       'December 14, 2016', 'December 18, 2019', 'March 16, 2017',\n",
       "       'November 20, 2019', 'May 19, 1999', 'May 25, 1977',\n",
       "       'April 22, 2015', 'July 19, 2012', 'May 19, 2004', 'June 11, 1982',\n",
       "       'June 20, 2019', 'March 6, 2019', 'November 15, 2013',\n",
       "       'July 6, 2006', 'June 15, 1994', 'June 6, 2018', 'May 30, 2017',\n",
       "       'April 24, 2013', 'April 27, 2016', 'March 8, 2012', 'May 3, 2002',\n",
       "       'December 20, 2017', 'June 11, 1993', 'June 19, 2009',\n",
       "       'November 22, 2013', 'June 28, 2019', 'April 25, 2017',\n",
       "       'May 18, 2005', 'December 17, 2003', 'June 30, 2004',\n",
       "       'February 25, 2004', 'June 24, 2016', 'June 20, 2013',\n",
       "       'April 7, 2016', 'February 9, 2016', 'May 22, 2019',\n",
       "       'April 1, 2015', 'June 29, 2011', 'December 25, 2014',\n",
       "       'December 18, 2002', 'November 19, 2014', 'May 1, 2007',\n",
       "       'April 9, 2015', 'October 2, 2019', 'July 5, 2017',\n",
       "       'March 3, 2010', 'July 30, 2014', 'July 6, 1994', 'March 23, 2016',\n",
       "       'September 6, 2017', 'August 3, 2016', 'May 16, 2018',\n",
       "       'May 17, 2007', 'December 4, 2019', 'June 28, 2007',\n",
       "       'April 30, 2008', 'November 16, 2001', 'May 21, 2008',\n",
       "       'December 19, 2001', 'October 24, 2017', 'April 28, 2010',\n",
       "       'May 16, 2002', 'May 22, 2007', 'May 25, 1983', 'July 3, 1996',\n",
       "       'July 9, 2003', 'October 25, 2012', 'July 15, 2009',\n",
       "       'June 30, 2010', 'November 18, 2009', 'August 6, 1999',\n",
       "       'May 28, 2009', 'May 21, 1980', 'July 15, 2010', 'July 11, 2007',\n",
       "       'November 14, 2012', 'December 7, 2005', 'June 12, 2013',\n",
       "       'November 2, 2001', 'November 16, 2005', 'November 18, 2015',\n",
       "       'May 15, 2003', 'November 16, 2011', 'December 22, 2004',\n",
       "       'June 5, 2009', 'October 3, 2013', 'November 7, 2018',\n",
       "       'December 2, 2016', 'May 16, 2001', 'June 14, 2017',\n",
       "       'November 14, 2002', 'June 28, 2012', 'November 17, 2000',\n",
       "       'March 26, 2014', 'February 6, 2014', 'May 6, 2009',\n",
       "       'December 12, 2007', 'November 20, 2009', 'May 25, 2011',\n",
       "       'July 8, 2010', 'July 2, 1997', 'May 31, 2004', 'June 12, 1981',\n",
       "       'June 25, 2014', 'May 23, 2003', 'April 19, 2002', 'May 28, 2014',\n",
       "       'May 18, 2011', 'May 20, 2010', 'May 17, 2013', 'June 21, 2012',\n",
       "       'March 6, 2013', 'May 24, 2006', 'June 29, 2005',\n",
       "       'November 16, 2016', 'May 21, 2014', 'December 22, 2000',\n",
       "       'October 25, 2016', 'May 23, 1997', 'May 8, 2013',\n",
       "       'September 30, 2015', 'August 2, 2002', 'July 2, 2008',\n",
       "       'August 3, 2007', 'March 1, 2017', 'August 3, 2001',\n",
       "       'April 12, 2017', 'October 25, 2014', 'July 25, 2018',\n",
       "       'December 21, 2009', 'November 24, 1993', 'June 29, 2012',\n",
       "       'December 14, 2005', 'March 18, 2010', 'May 17, 2006',\n",
       "       'July 24, 1998', 'October 26, 2018', 'June 6, 2012',\n",
       "       'June 5, 2008', 'May 24, 2000', 'October 3, 2018',\n",
       "       'April 30, 2003', 'March 1, 2012', 'May 23, 2018', 'July 26, 2002',\n",
       "       'September 4, 2019', 'March 7, 2007', 'April 20, 2011',\n",
       "       'December 14, 2011', 'July 14, 2005', 'January 1, 2009',\n",
       "       'July 9, 2014', 'June 15, 2005', 'October 30, 2013',\n",
       "       'January 15, 2020', 'June 11, 1999', 'July 3, 1991',\n",
       "       'June 19, 2013', 'May 4, 2001', 'July 1, 1998', 'March 11, 2015',\n",
       "       'November 21, 2018', 'November 24, 2010', 'May 14, 2014',\n",
       "       'June 28, 2006', 'October 26, 2015', 'May 25, 2001',\n",
       "       'March 19, 2009', 'November 17, 2006', 'May 24, 1989',\n",
       "       'June 29, 2009', 'March 29, 2006', 'July 24, 2015',\n",
       "       'November 20, 2008', 'July 3, 2002', 'June 5, 2014',\n",
       "       'June 22, 2011', 'August 7, 2014', 'December 12, 2018',\n",
       "       'June 16, 1978', 'July 19, 2017', 'November 1, 2012',\n",
       "       'April 4, 2018', 'November 5, 2014', 'May 4, 2000',\n",
       "       'March 15, 2013', 'May 26, 2004', 'June 8, 2005', 'May 7, 2015',\n",
       "       'June 16, 1995', 'December 25, 2015', 'December 7, 2001',\n",
       "       'July 25, 2007', 'December 15, 2000', 'June 30, 2000',\n",
       "       'November 9, 2012', 'July 5, 2001', 'April 21, 2011',\n",
       "       'May 22, 1996', 'July 10, 2015', 'July 27, 2001',\n",
       "       'October 30, 2008', 'April 29, 2009', 'February 11, 2005',\n",
       "       'May 23, 2012', 'March 23, 1990', 'March 19, 2015', 'May 20, 2009',\n",
       "       'August 3, 2011', 'July 22, 2011', 'November 7, 2003',\n",
       "       'June 10, 2010', 'July 15, 1998', 'March 14, 2002',\n",
       "       'July 23, 2004', 'February 2, 2017', 'March 20, 2019',\n",
       "       'August 15, 2018', 'November 19, 2004', 'July 25, 1997',\n",
       "       'May 24, 2017', 'December 16, 2010', 'December 19, 2018',\n",
       "       'March 31, 1999', 'December 22, 2010', 'June 16, 1999',\n",
       "       'May 15, 2019', 'December 21, 2001', 'February 26, 2002',\n",
       "       'August 10, 2011', 'September 21, 2015', 'December 25, 2016',\n",
       "       'May 12, 2011', 'October 31, 2008', 'March 8, 2017',\n",
       "       'October 2, 2014', 'June 28, 2018', 'November 15, 2006',\n",
       "       'October 6, 2000', 'February 11, 2015', 'November 11, 2009',\n",
       "       'November 21, 2019', 'May 26, 2011', 'February 9, 2001',\n",
       "       'December 25, 2002', 'June 17, 2009', 'December 15, 2006',\n",
       "       'June 25, 1999', 'March 31, 2010', 'January 28, 2015',\n",
       "       'June 19, 1992', 'December 25, 2012', 'July 27, 2016',\n",
       "       'June 24, 2010', 'November 6, 1998', 'June 27, 2012',\n",
       "       'August 14, 2015', 'November 20, 2002', 'September 23, 2004',\n",
       "       'January 3, 2019', 'February 22, 1996', 'October 12, 2018',\n",
       "       'October 17, 2018', 'December 25, 2019', 'May 24, 2019',\n",
       "       'July 20, 2016', 'May 27, 2005', 'July 13, 2000', 'July 7, 2000',\n",
       "       'July 21, 2000', 'May 18, 2016', 'May 7, 1999', 'May 30, 2012',\n",
       "       'May 22, 2015', 'April 2, 2009', 'July 6, 2005',\n",
       "       'December 13, 1996', 'October 13, 2016', 'June 14, 2002',\n",
       "       'May 28, 2008', 'July 30, 1999', 'December 7, 2016',\n",
       "       'March 20, 2014', 'August 29, 2012', 'July 2, 2003',\n",
       "       'August 5, 2009', 'May 8, 2014', 'December 12, 2013',\n",
       "       'October 27, 2011', 'February 12, 2020', 'December 19, 2012',\n",
       "       'June 1, 2007', 'December 23, 1997', 'October 28, 2010',\n",
       "       'September 20, 2012', 'August 4, 2006', 'December 12, 2008',\n",
       "       'July 11, 2017', 'June 1, 2011', 'January 16, 2009',\n",
       "       'July 15, 1994', 'June 21, 2002', 'November 11, 1994',\n",
       "       'August 8, 2018', 'August 10, 2001', 'February 27, 2008',\n",
       "       'May 10, 2013', 'July 15, 2004', 'May 15, 1992', 'June 22, 2001',\n",
       "       'June 27, 2008', 'May 3, 2019', 'April 4, 2011',\n",
       "       'January 28, 2016', 'December 5, 2007', 'July 27, 2011',\n",
       "       'July 25, 2019', 'August 9, 2002', 'May 15, 2008',\n",
       "       'December 11, 1992', 'November 12, 2008', 'September 18, 1998',\n",
       "       'July 16, 1999', 'April 3, 2019', 'June 7, 2018', 'August 8, 2007',\n",
       "       'December 17, 1999', 'September 27, 2012', 'November 5, 2003',\n",
       "       'November 26, 2010', 'December 25, 2003', 'July 18, 2003',\n",
       "       'March 15, 2012', 'January 18, 2017', 'September 9, 2009',\n",
       "       'May 19, 2000', 'March 28, 2018', 'July 18, 2013', 'June 22, 2006',\n",
       "       'December 10, 1999', 'May 20, 1998', 'October 11, 2012',\n",
       "       'April 11, 2003', 'November 4, 2005', 'December 25, 1998',\n",
       "       'January 17, 2014', 'June 11, 2008', 'June 26, 2007',\n",
       "       'June 26, 2008', 'February 7, 2013', 'December 15, 1978',\n",
       "       'June 7, 1996', 'May 3, 2006', 'July 11, 2013', 'May 12, 2004',\n",
       "       'May 13, 2009', 'March 7, 2003', 'July 24, 2013',\n",
       "       'October 5, 2006', 'June 19, 2003', 'November 16, 2012',\n",
       "       'June 20, 2002', 'June 13, 2007', 'July 1, 2010', 'June 15, 2001',\n",
       "       'May 27, 1994', 'July 10, 1998', 'June 19, 2008', 'March 18, 2015',\n",
       "       'October 29, 2015', 'June 21, 2017', 'November 2, 2007',\n",
       "       'September 15, 1999', 'October 18, 2002', 'June 28, 1996',\n",
       "       'February 23, 2006', 'July 11, 2016', 'January 30, 2015',\n",
       "       'March 10, 2005', 'December 8, 2000', 'February 18, 2010',\n",
       "       'December 24, 2014', 'November 21, 2007', 'December 25, 2008',\n",
       "       'June 15, 2016', 'December 18, 2013', 'September 27, 2002',\n",
       "       'June 5, 2003', 'June 20, 1997', 'June 9, 2011',\n",
       "       'November 19, 1999', 'June 25, 1993', 'July 25, 2014',\n",
       "       'June 29, 2016', 'November 1, 2007', 'February 8, 2012',\n",
       "       'June 28, 2002', 'March 17, 2000', 'December 9, 2004',\n",
       "       'November 3, 2000', 'December 25, 2013', 'September 8, 2016',\n",
       "       'February 9, 2012', 'November 21, 2012', 'June 4, 2014',\n",
       "       'September 16, 2009', 'June 30, 2006', 'December 12, 2003',\n",
       "       'March 2, 2011', 'July 28, 2000', 'March 27, 2013',\n",
       "       'August 5, 1994', 'February 14, 1992', 'August 17, 2007',\n",
       "       'June 10, 1994', 'February 13, 2004', 'July 18, 2018',\n",
       "       'August 19, 2009', 'July 25, 2003', 'May 5, 2004',\n",
       "       'November 26, 2008', 'July 20, 2007', 'July 29, 1994',\n",
       "       'September 26, 2013', 'February 2, 2005', 'July 23, 2009',\n",
       "       'August 6, 2010', 'June 23, 2004', 'May 31, 2002', 'June 2, 2006',\n",
       "       'December 16, 2004', 'March 30, 2007', 'July 21, 2010',\n",
       "       'March 20, 1992', 'May 29, 2013', 'November 13, 2019',\n",
       "       'June 2, 2000', 'July 7, 2011', 'September 5, 2018',\n",
       "       'October 15, 2010', 'August 8, 2003', 'November 8, 2002',\n",
       "       'September 24, 1999', 'August 16, 2013', 'June 15, 2011',\n",
       "       'May 28, 1999', 'December 18, 1998', 'February 14, 2007',\n",
       "       'September 29, 2000', 'August 13, 2009', 'February 8, 2018',\n",
       "       'July 21, 2017', 'March 27, 2019', 'February 8, 2017',\n",
       "       'June 18, 2004', 'August 13, 2003', 'November 21, 2008',\n",
       "       'October 16, 2019', 'June 30, 1999', 'December 17, 2014',\n",
       "       'June 28, 2000', 'July 28, 2016', 'August 8, 2012',\n",
       "       'March 4, 2005', 'December 23, 2009', 'March 30, 2001',\n",
       "       'June 27, 1997', 'May 23, 2013', 'November 20, 1998',\n",
       "       'February 7, 2014', 'December 5, 2003', 'January 16, 2019',\n",
       "       'May 21, 2015', 'August 13, 2008', 'May 29, 2019',\n",
       "       'February 10, 2010', 'October 22, 2004', 'December 21, 2005',\n",
       "       'August 6, 2003', 'July 17, 2015', 'December 24, 2008',\n",
       "       'October 24, 2003', 'November 25, 2015', 'August 19, 2005',\n",
       "       'October 8, 2009', 'December 28, 2001', 'January 10, 2019',\n",
       "       'June 19, 1981', 'March 30, 2011', 'October 14, 1994',\n",
       "       'September 25, 2009', 'June 28, 2017', 'July 1, 1992',\n",
       "       'May 16, 2013', 'March 4, 2009', 'May 11, 2016',\n",
       "       'October 11, 2013', 'December 3, 2010', 'March 5, 1999',\n",
       "       'March 5, 2014', 'May 30, 2003', 'February 6, 2019',\n",
       "       'May 12, 2010', 'July 18, 1997', 'September 12, 2019',\n",
       "       'December 21, 2017', 'August 1, 2003', 'July 12, 2002',\n",
       "       'December 2, 2010', 'May 9, 2003', 'November 9, 2017',\n",
       "       'October 19, 2011', 'January 19, 2012', 'December 14, 2018',\n",
       "       'June 22, 2016', 'August 12, 2010', 'December 20, 1996',\n",
       "       'February 9, 2011', 'November 3, 2017', 'June 18, 1999',\n",
       "       'December 17, 2004', 'July 9, 1999', 'February 14, 2003',\n",
       "       'December 21, 2011', 'July 30, 2008', 'June 8, 2016',\n",
       "       'September 11, 2014', 'July 9, 1993', 'August 3, 2017',\n",
       "       'October 23, 2013', 'July 10, 2008', 'June 9, 2000',\n",
       "       'February 8, 1991', 'September 24, 2014', 'September 25, 2008',\n",
       "       'December 12, 1997', 'June 21, 1996', 'November 21, 2003',\n",
       "       'June 6, 1997', 'April 11, 2018', 'August 5, 2004',\n",
       "       'July 11, 1997', 'June 26, 2003', 'October 11, 2019',\n",
       "       'December 14, 2001', 'November 10, 2016', 'November 3, 2010',\n",
       "       'December 15, 1995', 'December 15, 2004', 'July 25, 2008',\n",
       "       'June 21, 2007', 'February 7, 2018', 'December 11, 1998',\n",
       "       'June 17, 2011', 'December 17, 2010', 'July 29, 2011',\n",
       "       'September 20, 2017', 'September 22, 1995', 'December 21, 2016',\n",
       "       'May 19, 1995', 'August 1, 2018', 'March 20, 2013',\n",
       "       'January 12, 2011', 'April 8, 2010', 'December 18, 2008',\n",
       "       'August 11, 2016', 'July 23, 1999', 'June 24, 2009',\n",
       "       'October 1, 2010', 'December 15, 1993', 'March 29, 2002',\n",
       "       'February 9, 2007', 'May 27, 2010', 'April 12, 2013',\n",
       "       'November 22, 2000', 'January 14, 2010', 'March 5, 2008',\n",
       "       'August 6, 2009', 'July 17, 1998', 'December 13, 2002',\n",
       "       'November 14, 2003', 'November 2, 2012', 'July 20, 2001',\n",
       "       'December 25, 2007', 'May 20, 2015', 'September 14, 2016',\n",
       "       'July 4, 2001', 'December 20, 2002', 'October 4, 2002',\n",
       "       'August 8, 2013', 'September 15, 2010', 'February 19, 2014',\n",
       "       'October 4, 2017', 'October 13, 2021', 'April 20, 2012',\n",
       "       'April 16, 2014', 'January 15, 2015', 'April 18, 2002',\n",
       "       'July 16, 2009', 'October 2, 1998', 'April 12, 2006',\n",
       "       'June 23, 2000', 'October 22, 2008', 'August 4, 2000',\n",
       "       'March 26, 2015', 'October 14, 2010', 'August 9, 2013',\n",
       "       'October 8, 2003', 'June 25, 2015', 'July 3, 2013',\n",
       "       'January 1, 2015', 'August 25, 2016', 'February 4, 2000',\n",
       "       'April 10, 2013', 'February 26, 2009', 'March 9, 2006',\n",
       "       'November 23, 2011', 'March 23, 2006', 'July 28, 1995',\n",
       "       'March 5, 2004', 'January 16, 2004', 'April 30, 1999',\n",
       "       'August 6, 2008', 'September 28, 2016', 'December 18, 2015',\n",
       "       'October 28, 2005', 'November 12, 2014', 'July 27, 2017',\n",
       "       'April 30, 2004', 'August 7, 2002', 'February 5, 2019',\n",
       "       'October 17, 2014', 'March 22, 2017', 'July 9, 2004',\n",
       "       'September 29, 2006', 'November 16, 2018', 'August 15, 2012',\n",
       "       'October 20, 2010', 'July 2, 2014', 'July 28, 2011',\n",
       "       'September 23, 2014', 'February 5, 2020', 'June 8, 2001',\n",
       "       'May 28, 1993', 'April 17, 2014', 'November 14, 2014',\n",
       "       'December 4, 2009', 'March 28, 2012', 'September 13, 2013',\n",
       "       'March 9, 2011', 'November 10, 2011', 'March 15, 2018',\n",
       "       'June 5, 1992', 'November 29, 2013', 'August 14, 2019',\n",
       "       'December 9, 2005', 'July 10, 2013', 'December 9, 1994',\n",
       "       'December 7, 2006', 'May 13, 2005', 'January 21, 2005',\n",
       "       'August 14, 2003', 'December 7, 1979', 'November 13, 1992',\n",
       "       'August 13, 2014', 'March 22, 2002', 'November 14, 2007',\n",
       "       'February 9, 2006', 'June 2, 2016', 'December 22, 2017',\n",
       "       'May 25, 1979', 'September 9, 2015', 'February 17, 2006',\n",
       "       'November 10, 2010', 'February 5, 1999', 'June 19, 2015',\n",
       "       'December 25, 1999', 'October 3, 2003', 'January 18, 2002',\n",
       "       'March 28, 2008', 'April 21, 1995', 'June 25, 2004',\n",
       "       'August 13, 2010', 'October 17, 2003', 'July 6, 2011'],\n",
       "      dtype=object)"
      ]
     },
     "execution_count": 18,
     "metadata": {},
     "output_type": "execute_result"
    }
   ],
   "source": [
    "data['Release Date'].unique()"
   ]
  },
  {
   "cell_type": "code",
   "execution_count": 19,
   "id": "6fa4fc79",
   "metadata": {},
   "outputs": [
    {
     "data": {
      "text/plain": [
       "array([  0,   1,   2,   3,   4,   5,   6,   7,   8,   9,  10,  11,  12,\n",
       "        13,  14,  15,  16,  17,  18,  19,  20,  21,  22,  23,  24,  25,\n",
       "        26,  27,  28,  29,  30,  31,  32,  33,  34,  35,  36,  37,  38,\n",
       "        39,  40,  41,  42,  43,  44,  45,  46,  47,  48,  49,  50,  51,\n",
       "        52,  53,  54,  55,  56,  57,  58,  59,  60,  61,  62,  63,  64,\n",
       "        65,  66,  67,  68,  69,  70,  71,  72,  73,  74,  75,  76,  77,\n",
       "        78,  79,  80,  81,  82,  83,  84,  85,  86,  87,  88,  89,  90,\n",
       "        91,  92,  93,  94,  95,  96,  97,  98,  99, 100, 101, 102, 103,\n",
       "       104, 105, 106, 107, 108, 109, 110, 111, 112, 113, 114, 115, 116,\n",
       "       117, 118, 119, 120, 121, 122, 123, 124, 125, 126, 127, 128, 129,\n",
       "       130, 131, 132, 133, 134, 135, 136, 137, 138, 139, 140, 141, 142,\n",
       "       143, 144, 145, 146, 147, 148, 149, 150, 151, 152, 153, 154, 155,\n",
       "       156, 157, 158, 159, 160, 161, 162, 163, 164, 165, 166, 167, 168,\n",
       "       169, 170, 171, 172, 173, 174, 175, 176, 177, 178, 179, 180, 181,\n",
       "       182, 183, 184, 185, 186, 187, 188, 189, 190, 191, 192, 193, 194,\n",
       "       195, 196, 197, 198, 199, 200, 201, 202, 203, 204, 205, 206, 207,\n",
       "       208, 209, 210, 211, 212, 213, 214, 215, 216, 217, 218, 219, 220,\n",
       "       221, 222, 223, 224, 225, 226, 227, 228, 229, 230, 231, 232, 233,\n",
       "       234, 235, 236, 237, 238, 239, 240, 241, 242, 243, 244, 245, 246,\n",
       "       247, 248, 249, 250, 251, 252, 253, 254, 255, 256, 257, 258, 259,\n",
       "       260, 261, 262, 263, 264, 265, 266, 267, 268, 269, 270, 271, 272,\n",
       "       273, 274, 275, 276, 277, 278, 279, 280, 281, 282, 283, 284, 285,\n",
       "       286, 287, 288, 289, 290, 291, 292, 293, 294, 295, 296, 297, 298,\n",
       "       299, 300, 301, 302, 303, 304, 305, 306, 307, 308, 309, 310, 311,\n",
       "       312, 313, 314, 315, 316, 317, 318, 319, 320, 321, 322, 323, 324,\n",
       "       325, 326, 327, 328, 329, 330, 331, 332, 333, 334, 335, 336, 337,\n",
       "       338, 339, 340, 341, 342, 343, 344, 345, 346, 347, 348, 349, 350,\n",
       "       351, 352, 353, 354, 355, 356, 357, 358, 359, 360, 361, 362, 363,\n",
       "       364, 365, 366, 367, 368, 369, 370, 371, 372, 373, 374, 375, 376,\n",
       "       377, 378, 379, 380, 381, 382, 383, 384, 385, 386, 387, 388, 389,\n",
       "       390, 391, 392, 393, 394, 395, 396, 397, 398, 399, 400, 401, 402,\n",
       "       403, 404, 405, 406, 407, 408, 409, 410, 411, 412, 413, 414, 415,\n",
       "       416, 417, 418, 419, 420, 421, 422, 423, 424, 425, 426, 427, 428,\n",
       "       429, 430, 431, 432, 433, 434, 435, 436, 437, 438, 439, 440, 441,\n",
       "       442, 443, 444, 445, 446, 447, 448, 449, 450, 451, 452, 453, 454,\n",
       "       455, 456, 457, 458, 459, 460, 461, 462, 463, 464, 465, 466, 467,\n",
       "       468, 469, 470, 471, 472, 473, 474, 475, 476, 477, 478, 479, 480,\n",
       "       481, 482, 483, 484, 485, 486, 487, 488, 489, 490, 491, 492, 493,\n",
       "       494, 495, 496, 497, 498, 499, 500, 501, 502, 503, 504, 505, 506,\n",
       "       507, 508, 509, 510, 511, 512, 513, 514, 515, 516, 517, 518, 519,\n",
       "       520, 521, 522, 523, 524, 525, 526, 527, 528, 529, 530, 531, 532,\n",
       "       533, 534, 535, 536, 537, 538, 539, 540, 541, 542, 543, 544, 545,\n",
       "       546, 547, 548, 549, 550, 551, 552, 553, 554, 555, 556, 557, 558,\n",
       "       559, 560, 561, 562, 563, 564, 565, 566, 567, 568, 569, 570, 571,\n",
       "       572, 573, 574, 575, 576, 577, 578, 579, 580, 581, 582, 583, 584,\n",
       "       585, 586, 587, 588, 589, 590, 591, 592, 593, 594, 595, 596, 597,\n",
       "       598, 599, 600, 601, 602, 603, 604, 605, 606, 607, 608, 609, 610,\n",
       "       611, 612, 613, 614, 615, 616, 617, 618, 619, 620, 621, 622, 623,\n",
       "       624, 625, 626, 627, 628, 629, 630, 631, 632, 633, 634, 635, 636,\n",
       "       637, 638, 639, 640, 641, 642, 643, 644, 645, 646, 647, 648, 649,\n",
       "       650, 651, 652, 653, 654, 655, 656, 657, 658, 659, 660, 661, 662,\n",
       "       663, 664, 665, 666, 667, 668, 669, 670, 671, 672, 673, 674, 675,\n",
       "       676, 677, 678, 679, 680, 681, 682, 683, 684, 685, 686, 687, 688,\n",
       "       689, 690, 691, 692, 693])"
      ]
     },
     "execution_count": 19,
     "metadata": {},
     "output_type": "execute_result"
    }
   ],
   "source": [
    "np.unique(date_transform)"
   ]
  },
  {
   "cell_type": "markdown",
   "id": "ffa7873f",
   "metadata": {},
   "source": [
    "# Нормализация числовых признаков"
   ]
  },
  {
   "cell_type": "code",
   "execution_count": 20,
   "id": "d1b73e1f",
   "metadata": {},
   "outputs": [],
   "source": [
    "def diagnostic_plots(df, variable):\n",
    "    plt.figure(figsize=(15,6))\n",
    "    plt.subplot(1, 2, 1)\n",
    "    df[variable].hist(bins=30)\n",
    "    plt.subplot(1, 2, 2)\n",
    "    stats.probplot(df[variable], dist=\"norm\", plot=plt)\n",
    "    plt.show()"
   ]
  },
  {
   "cell_type": "code",
   "execution_count": 21,
   "id": "a9b28692",
   "metadata": {},
   "outputs": [
    {
     "data": {
      "image/png": "[encoded data removed]",
      "text/plain": [
       "<Figure size 720x720 with 4 Axes>"
      ]
     },
     "metadata": {},
     "output_type": "display_data"
    }
   ],
   "source": [
    "data.hist(figsize=(10,10))\n",
    "plt.show()"
   ]
  },
  {
   "cell_type": "code",
   "execution_count": 22,
   "id": "e4c1e802",
   "metadata": {},
   "outputs": [
    {
     "data": {
      "image/png": "[encoded data removed]",
      "text/plain": [
       "<Figure size 1080x432 with 2 Axes>"
      ]
     },
     "metadata": {},
     "output_type": "display_data"
    }
   ],
   "source": [
    "diagnostic_plots(data, 'World Sales (in $)')"
   ]
  },
  {
   "cell_type": "code",
   "execution_count": 23,
   "id": "b1240831",
   "metadata": {},
   "outputs": [
    {
     "data": {
      "image/png": "[encoded data removed]",
      "text/plain": [
       "<Figure size 1080x432 with 2 Axes>"
      ]
     },
     "metadata": {},
     "output_type": "display_data"
    }
   ],
   "source": [
    "data['World Sales (in $)_sqr'] = data['World Sales (in $)']**(1/2) \n",
    "diagnostic_plots(data, 'World Sales (in $)_sqr')"
   ]
  },
  {
   "cell_type": "code",
   "execution_count": 24,
   "id": "26d0afaa",
   "metadata": {},
   "outputs": [
    {
     "name": "stdout",
     "output_type": "stream",
     "text": [
      "Оптимальное значение λ = -0.30262887345630435\n"
     ]
    },
    {
     "data": {
      "image/png": "[encoded data removed]",
      "text/plain": [
       "<Figure size 1080x432 with 2 Axes>"
      ]
     },
     "metadata": {},
     "output_type": "display_data"
    }
   ],
   "source": [
    "data['World Sales (in $)_boxcox'], param = stats.boxcox(data['World Sales (in $)']) \n",
    "print('Оптимальное значение λ = {}'.format(param))\n",
    "diagnostic_plots(data, 'World Sales (in $)_boxcox')"
   ]
  },
  {
   "cell_type": "code",
   "execution_count": null,
   "id": "25ee7e96",
   "metadata": {},
   "outputs": [],
   "source": []
  }
 ],
 "metadata": {
  "kernelspec": {
   "display_name": "Python 3 (ipykernel)",
   "language": "python",
   "name": "python3"
  },
  "language_info": {
   "codemirror_mode": {
    "name": "ipython",
    "version": 3
   },
   "file_extension": ".py",
   "mimetype": "text/x-python",
   "name": "python",
   "nbconvert_exporter": "python",
   "pygments_lexer": "ipython3",
   "version": "3.9.7"
  }
 },
 "nbformat": 4,
 "nbformat_minor": 5
}
